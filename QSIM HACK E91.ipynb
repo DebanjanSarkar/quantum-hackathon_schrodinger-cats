{
 "cells": [
  {
   "cell_type": "code",
   "execution_count": 1,
   "id": "21378257-55d0-4881-9a24-2b60a1ac6ef7",
   "metadata": {},
   "outputs": [
    {
     "data": {
      "text/plain": [
       "'\\nE91\\n'"
      ]
     },
     "execution_count": 1,
     "metadata": {},
     "output_type": "execute_result"
    }
   ],
   "source": [
    "'''\n",
    "E91\n",
    "'''"
   ]
  },
  {
   "cell_type": "code",
   "execution_count": 2,
   "id": "30c9462c-9877-4036-a2bc-2cf69773e4bc",
   "metadata": {},
   "outputs": [],
   "source": [
    "from qiskit import BasicAer,execute,QuantumCircuit,QuantumRegister,ClassicalRegister\n",
    "import matplotlib.pyplot as plt\n",
    "from numpy.random import randint,random_integers\n",
    "import numpy as np\n",
    "import math\n",
    "backend = BasicAer.get_backend('dm_simulator')"
   ]
  },
  {
   "cell_type": "code",
   "execution_count": 3,
   "id": "708d283d-78c5-4e50-aa51-daa08f3071b2",
   "metadata": {},
   "outputs": [],
   "source": [
    "options_without_noise={\n",
    "    'plot': False,\n",
    "}\n",
    "options_noise = { \n",
    "    'plot': False,\n",
    "\"rotation_error\": {'rx':[1.0, 0.0], 'ry':[1.0, 0.0], 'rz':[1.0,0.0]},\n",
    "\"tsp_model_error\": [1.0, 0.0],\n",
    "\"thermal_factor\": 1.0,\n",
    "\"decoherence_factor\": 1.0,\n",
    "\"depolarization_factor\": 1.0,\n",
    "\"bell_depolarization_factor\": 1.0,\n",
    "\"decay_factor\": 1.0,\n",
    "}\n",
    "\n",
    "def density_check(arr):\n",
    "    ket_plus=[[0.5+0.j, 0.5+0.j],[0.5+0.j, 0.5+0.j]]  #0\n",
    "    ket_minus=[[ 0.5+0.j, -0.5+0.j],[-0.5+0.j, 0.5+0.j]]  #1\n",
    "    ket_45=[[0.5+0.j, 0.35355339-0.35355339j],[0.35355339+0.35355339j,0.5+0.j]]  #0\n",
    "    ket_225=[[ 0.5+0.j, -0.35355339+0.35355339j],[-0.35355339-0.35355339j, 0.5+0.j]]  #1\n",
    "    ket_plus_i=[[5.000000e-01+0.j , 3.061617e-17-0.5j],[3.061617e-17+0.5j, 5.000000e-01+0.j ]] #0\n",
    "    ket_minus_i =[[ 5.00000000e-01+0.j , -9.18485099e-17+0.5j],[-9.18485099e-17-0.5j,  5.00000000e-01+0.j ]] #1\n",
    "    ket_135=[[ 0.5+0.j, -0.35355339-0.35355339j],[-0.35355339+0.35355339j,  0.5+0.j]]  #0\n",
    "    ket_315=[[0.5+0.j, 0.35355339+0.35355339j],[0.35355339-0.35355339j, 0.5+0.j]]   #1\n",
    "    \n",
    "    if((arr == ket_plus).all()):\n",
    "        return \"ket_plus\"\n",
    "    elif((arr == ket_minus).all()):\n",
    "        return \"ket_minus\"\n",
    "    elif((arr == ket_45).all()):\n",
    "        return \"ket_45\"\n",
    "    elif((arr == ket_225).all()):\n",
    "        return \"ket_225\"\n",
    "    elif((arr == ket_plus_i).all()):\n",
    "        return \"ket_plus_i\"\n",
    "    elif((arr == ket_minus_i).all()):\n",
    "        return \"ket_minus_i\"\n",
    "    elif((arr == ket_135).all()):\n",
    "        return \"ket_135\"\n",
    "    else:\n",
    "        return \"ket_315\"\n",
    "        \n",
    "def max_enatangled_gen(n):\n",
    "    entangled_pairs=[]\n",
    "    for i in range(n):\n",
    "        qc=QuantumCircuit(2,2)\n",
    "        qc.h(0)\n",
    "        qc.cx(0,1) #Creating Pair |00> + |11> \n",
    "        entangled_pairs.append(qc)\n",
    "    return entangled_pairs\n",
    "\n",
    "## All the measurement are over the xy plane\n",
    "def alice_measurement(alice_bases,pair,envs):\n",
    "    alice_measured_data=[]\n",
    "    for i in range(n):\n",
    "        if(alice_bases[i]==0):\n",
    "            \n",
    "            pair[i].measure(0,0,basis='X')#0 degree \n",
    "        elif(alice_bases[i]==1):\n",
    "            \n",
    "            pair[i].measure(0,0, basis='N', add_param=np.array([0.707106,0.70710,0]))#45 degree  \n",
    "        else:\n",
    "            pair[i].measure(0,0, basis='Y')#90 \n",
    "        \n",
    "        if(envs==\"noiseless\"):\n",
    "            job = execute(pair[i], backend, **options_without_noise)\n",
    "        else:\n",
    "            job = execute(pair[i], backend, **options_noise)\n",
    "        result = job.result()\n",
    "        density_matrix = result.results[0].data.densitymatrix\n",
    "        dm_check = density_check(density_matrix)\n",
    "        if ((dm_check == \"ket_minus\") or (dm_check ==\"ket_225\") or (dm_check == \"ket_minus_i\") or (dm_check ==\"ket_315\")) :\n",
    "            measurement=1\n",
    "        else:\n",
    "            measurement=0\n",
    "        alice_measured_data.append(measurement)\n",
    "    return alice_measured_data\n",
    "\n",
    "def bob_measurement(bob_bases,pair,envs):\n",
    "    bob_measured_data=[]\n",
    "    for i in range(n):\n",
    "        if(bob_bases[i]==0):\n",
    "            pair[i].measure(1,1, basis='N', add_param=np.array([0.707106,0.707106,0]))#45 degree   \n",
    "        elif(bob_bases[i]==1):\n",
    "            pair[i].measure(1,1, basis='Y')#90 \n",
    "        else:\n",
    "            pair[i].measure(1,1, basis='N', add_param=np.array([-0.707106,0.707106,0]))#135 degree \n",
    "        \n",
    "        if(envs==\"noiseless\"):\n",
    "            job = execute(pair[i], backend, **options_without_noise)\n",
    "        else:\n",
    "            job = execute(pair[i], backend, **options_noise)\n",
    "        result = job.result()\n",
    "        density_matrix = result.results[0].data.densitymatrix\n",
    "        dm_check = density_check(density_matrix)\n",
    "        if ((dm_check == \"ket_minus\") or (dm_check ==\"ket_225\") or (dm_check ==\"ket_minus_i\") or (dm_check ==\"ket_315\")) :\n",
    "            measurement=1\n",
    "        else:\n",
    "            measurement=0\n",
    "        bob_measured_data.append(measurement)\n",
    "    return bob_measured_data\n",
    "\n",
    "def key_selection(alice_bases,bob_bases,measurement):\n",
    "    shifted_key=[]  \n",
    "    for i in range(n): \n",
    "        if((alice_bases[i]==1 and bob_bases[i]==0) or (alice_bases[i]==2 and bob_bases[i]==1)):\n",
    "            shifted_key.append(bits[i])\n",
    "    return shifted_key\n"
   ]
  },
  {
   "cell_type": "code",
   "execution_count": 4,
   "id": "1a89c2a3-b9f4-48a2-a4bb-0e91a2211782",
   "metadata": {},
   "outputs": [],
   "source": [
    "n =12\n",
    "pair = max_enatangled_gen(n)"
   ]
  },
  {
   "cell_type": "code",
   "execution_count": 5,
   "id": "5db20b37-4abe-4f2e-a596-a0dc629132be",
   "metadata": {},
   "outputs": [
    {
     "ename": "ValueError",
     "evalue": "operands could not be broadcast together with shapes (4,4) (2,2) ",
     "output_type": "error",
     "traceback": [
      "\u001b[1;31m---------------------------------------------------------------------------\u001b[0m",
      "\u001b[1;31mValueError\u001b[0m                                Traceback (most recent call last)",
      "Cell \u001b[1;32mIn[5], line 4\u001b[0m\n\u001b[0;32m      2\u001b[0m bob_bases \u001b[38;5;241m=\u001b[39m randint(\u001b[38;5;241m3\u001b[39m,size\u001b[38;5;241m=\u001b[39mn)\n\u001b[0;32m      3\u001b[0m envs \u001b[38;5;241m=\u001b[39m \u001b[38;5;124m\"\u001b[39m\u001b[38;5;124mnoiseless\u001b[39m\u001b[38;5;124m\"\u001b[39m\n\u001b[1;32m----> 4\u001b[0m alice_data \u001b[38;5;241m=\u001b[39m \u001b[43malice_measurement\u001b[49m\u001b[43m(\u001b[49m\u001b[43malice_bases\u001b[49m\u001b[43m,\u001b[49m\u001b[43mpair\u001b[49m\u001b[43m,\u001b[49m\u001b[43menvs\u001b[49m\u001b[43m)\u001b[49m\n\u001b[0;32m      5\u001b[0m bob_data \u001b[38;5;241m=\u001b[39m bob_measurement(bob_bases,pair,envs)\n\u001b[0;32m      6\u001b[0m alice_shifted_key \u001b[38;5;241m=\u001b[39m key_selection(alice_bases,bob_bases,alice_data)\n",
      "Cell \u001b[1;32mIn[3], line 70\u001b[0m, in \u001b[0;36malice_measurement\u001b[1;34m(alice_bases, pair, envs)\u001b[0m\n\u001b[0;32m     68\u001b[0m result \u001b[38;5;241m=\u001b[39m job\u001b[38;5;241m.\u001b[39mresult()\n\u001b[0;32m     69\u001b[0m density_matrix \u001b[38;5;241m=\u001b[39m result\u001b[38;5;241m.\u001b[39mresults[\u001b[38;5;241m0\u001b[39m]\u001b[38;5;241m.\u001b[39mdata\u001b[38;5;241m.\u001b[39mdensitymatrix\n\u001b[1;32m---> 70\u001b[0m dm_check \u001b[38;5;241m=\u001b[39m \u001b[43mdensity_check\u001b[49m\u001b[43m(\u001b[49m\u001b[43mdensity_matrix\u001b[49m\u001b[43m)\u001b[49m\n\u001b[0;32m     71\u001b[0m \u001b[38;5;28;01mif\u001b[39;00m ((dm_check \u001b[38;5;241m==\u001b[39m \u001b[38;5;124m\"\u001b[39m\u001b[38;5;124mket_minus\u001b[39m\u001b[38;5;124m\"\u001b[39m) \u001b[38;5;129;01mor\u001b[39;00m (dm_check \u001b[38;5;241m==\u001b[39m\u001b[38;5;124m\"\u001b[39m\u001b[38;5;124mket_225\u001b[39m\u001b[38;5;124m\"\u001b[39m) \u001b[38;5;129;01mor\u001b[39;00m (dm_check \u001b[38;5;241m==\u001b[39m \u001b[38;5;124m\"\u001b[39m\u001b[38;5;124mket_minus_i\u001b[39m\u001b[38;5;124m\"\u001b[39m) \u001b[38;5;129;01mor\u001b[39;00m (dm_check \u001b[38;5;241m==\u001b[39m\u001b[38;5;124m\"\u001b[39m\u001b[38;5;124mket_315\u001b[39m\u001b[38;5;124m\"\u001b[39m)) :\n\u001b[0;32m     72\u001b[0m     measurement\u001b[38;5;241m=\u001b[39m\u001b[38;5;241m1\u001b[39m\n",
      "Cell \u001b[1;32mIn[3], line 25\u001b[0m, in \u001b[0;36mdensity_check\u001b[1;34m(arr)\u001b[0m\n\u001b[0;32m     22\u001b[0m ket_135\u001b[38;5;241m=\u001b[39m[[ \u001b[38;5;241m0.5\u001b[39m\u001b[38;5;241m+\u001b[39m\u001b[38;5;241m0.\u001b[39mj, \u001b[38;5;241m-\u001b[39m\u001b[38;5;241m0.35355339\u001b[39m\u001b[38;5;241m-\u001b[39m\u001b[38;5;241m0.35355339\u001b[39mj],[\u001b[38;5;241m-\u001b[39m\u001b[38;5;241m0.35355339\u001b[39m\u001b[38;5;241m+\u001b[39m\u001b[38;5;241m0.35355339\u001b[39mj,  \u001b[38;5;241m0.5\u001b[39m\u001b[38;5;241m+\u001b[39m\u001b[38;5;241m0.\u001b[39mj]]  \u001b[38;5;66;03m#0\u001b[39;00m\n\u001b[0;32m     23\u001b[0m ket_315\u001b[38;5;241m=\u001b[39m[[\u001b[38;5;241m0.5\u001b[39m\u001b[38;5;241m+\u001b[39m\u001b[38;5;241m0.\u001b[39mj, \u001b[38;5;241m0.35355339\u001b[39m\u001b[38;5;241m+\u001b[39m\u001b[38;5;241m0.35355339\u001b[39mj],[\u001b[38;5;241m0.35355339\u001b[39m\u001b[38;5;241m-\u001b[39m\u001b[38;5;241m0.35355339\u001b[39mj, \u001b[38;5;241m0.5\u001b[39m\u001b[38;5;241m+\u001b[39m\u001b[38;5;241m0.\u001b[39mj]]   \u001b[38;5;66;03m#1\u001b[39;00m\n\u001b[1;32m---> 25\u001b[0m \u001b[38;5;28;01mif\u001b[39;00m((\u001b[43marr\u001b[49m\u001b[43m \u001b[49m\u001b[38;5;241;43m==\u001b[39;49m\u001b[43m \u001b[49m\u001b[43mket_plus\u001b[49m)\u001b[38;5;241m.\u001b[39mall()):\n\u001b[0;32m     26\u001b[0m     \u001b[38;5;28;01mreturn\u001b[39;00m \u001b[38;5;124m\"\u001b[39m\u001b[38;5;124mket_plus\u001b[39m\u001b[38;5;124m\"\u001b[39m\n\u001b[0;32m     27\u001b[0m \u001b[38;5;28;01melif\u001b[39;00m((arr \u001b[38;5;241m==\u001b[39m ket_minus)\u001b[38;5;241m.\u001b[39mall()):\n",
      "\u001b[1;31mValueError\u001b[0m: operands could not be broadcast together with shapes (4,4) (2,2) "
     ]
    }
   ],
   "source": [
    "alice_bases = randint(3,size=n)\n",
    "bob_bases = randint(3,size=n)\n",
    "envs = \"noiseless\"\n",
    "alice_data = alice_measurement(alice_bases,pair,envs)\n",
    "bob_data = bob_measurement(bob_bases,pair,envs)\n",
    "alice_shifted_key = key_selection(alice_bases,bob_bases,alice_data)\n",
    "bob_shifted_key = key_selection(alice_bases,bob_bases,bob_data)\n",
    "print(alice_shifted_key)\n",
    "print(bob_shifted_key)\n"
   ]
  },
  {
   "cell_type": "code",
   "execution_count": 59,
   "id": "4740fc81-1a46-4d21-b861-a630434483d8",
   "metadata": {},
   "outputs": [
    {
     "name": "stdout",
     "output_type": "stream",
     "text": [
      "DensityMatrix([[0.5+0.j, 0. +0.j, 0. +0.j, 0.5+0.j],\n",
      "               [0. +0.j, 0. +0.j, 0. +0.j, 0. +0.j],\n",
      "               [0. +0.j, 0. +0.j, 0. +0.j, 0. +0.j],\n",
      "               [0.5+0.j, 0. +0.j, 0. +0.j, 0.5+0.j]],\n",
      "              dims=(2, 2))\n"
     ]
    }
   ],
   "source": [
    "from qiskit.quantum_info import DensityMatrix, partial_trace\n",
    "qc1 = QuantumCircuit(2,2)\n",
    "\n",
    "qc1.h(0)\n",
    "qc1.cx(0,1) # psi = |00> + |11> / root (2)\n",
    "rho_AB = DensityMatrix(qc1)\n",
    "\n",
    "print(rho_AB)"
   ]
  },
  {
   "cell_type": "code",
   "execution_count": 56,
   "id": "bdd5876e-3f22-449c-97d6-60d45d6be813",
   "metadata": {},
   "outputs": [
    {
     "name": "stdout",
     "output_type": "stream",
     "text": [
      "[[0.25+0.j 0.  +0.j 0.  +0.j 0.25+0.j]\n",
      " [0.  +0.j 0.25+0.j 0.25+0.j 0.  +0.j]\n",
      " [0.  +0.j 0.25+0.j 0.25+0.j 0.  +0.j]\n",
      " [0.25+0.j 0.  +0.j 0.  +0.j 0.25+0.j]]\n"
     ]
    }
   ],
   "source": [
    "#Alice\n",
    "qc1.measure(0,0, basis='N', add_param=np.array([0.70710689672121151610311545332544,0.70710678118654752440084436210485,6.123233995736766e-17]))\n",
    "job1 = execute(qc1, backend, shots= 1024 ,**options_without_noise)\n",
    "result1 = job1.result()\n",
    "density_matrix1 = result1.results[0].data.densitymatrix\n",
    "print(density_matrix1)\n",
    "\n"
   ]
  },
  {
   "cell_type": "code",
   "execution_count": 58,
   "id": "aa61d608-767d-4a35-aaa1-85525ee0707a",
   "metadata": {},
   "outputs": [
    {
     "name": "stdout",
     "output_type": "stream",
     "text": [
      "[[0.25+0.j 0.  +0.j 0.  +0.j 0.  +0.j]\n",
      " [0.  +0.j 0.25+0.j 0.  +0.j 0.  +0.j]\n",
      " [0.  +0.j 0.  +0.j 0.25+0.j 0.  +0.j]\n",
      " [0.  +0.j 0.  +0.j 0.  +0.j 0.25+0.j]]\n"
     ]
    }
   ],
   "source": [
    "\n",
    "qc1.measure(0,0, basis='N', add_param=np.array([0.70710689672121151610311545332544,0.70710678118654752440084436210485,6.123233995736766e-17]))\n",
    "job2 = execute(qc1, backend,shots = 1, **options_without_noise)\n",
    "result2 = job2.result()\n",
    "\n",
    "density_matrix2 = result2.results[0].data.densitymatrix\n",
    "print(density_matrix2)\n",
    "\n"
   ]
  },
  {
   "cell_type": "code",
   "execution_count": null,
   "id": "fdd75536-ba05-4f2f-a879-2d9318cdc693",
   "metadata": {},
   "outputs": [],
   "source": []
  }
 ],
 "metadata": {
  "kernelspec": {
   "display_name": "Python 3 (ipykernel)",
   "language": "python",
   "name": "python3"
  },
  "language_info": {
   "codemirror_mode": {
    "name": "ipython",
    "version": 3
   },
   "file_extension": ".py",
   "mimetype": "text/x-python",
   "name": "python",
   "nbconvert_exporter": "python",
   "pygments_lexer": "ipython3",
   "version": "3.9.17"
  }
 },
 "nbformat": 4,
 "nbformat_minor": 5
}
